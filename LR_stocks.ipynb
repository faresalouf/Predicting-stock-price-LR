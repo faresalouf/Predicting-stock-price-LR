{
 "cells": [
  {
   "cell_type": "code",
   "execution_count": 56,
   "id": "normal-greenhouse",
   "metadata": {},
   "outputs": [],
   "source": [
    "# Import libraries\n",
    "import numpy as np\n",
    "import pandas as pd\n",
    "import matplotlib.pyplot as plt"
   ]
  },
  {
   "cell_type": "code",
   "execution_count": 57,
   "id": "broad-excuse",
   "metadata": {},
   "outputs": [],
   "source": [
    "# Import data set\n",
    "df = pd.read_csv('AAPL.csv')"
   ]
  },
  {
   "cell_type": "code",
   "execution_count": 58,
   "id": "boolean-stability",
   "metadata": {},
   "outputs": [
    {
     "data": {
      "text/html": [
       "<div>\n",
       "<style scoped>\n",
       "    .dataframe tbody tr th:only-of-type {\n",
       "        vertical-align: middle;\n",
       "    }\n",
       "\n",
       "    .dataframe tbody tr th {\n",
       "        vertical-align: top;\n",
       "    }\n",
       "\n",
       "    .dataframe thead th {\n",
       "        text-align: right;\n",
       "    }\n",
       "</style>\n",
       "<table border=\"1\" class=\"dataframe\">\n",
       "  <thead>\n",
       "    <tr style=\"text-align: right;\">\n",
       "      <th></th>\n",
       "      <th>Date</th>\n",
       "      <th>Open</th>\n",
       "      <th>High</th>\n",
       "      <th>Low</th>\n",
       "      <th>Close</th>\n",
       "      <th>Adj Close</th>\n",
       "      <th>Volume</th>\n",
       "    </tr>\n",
       "  </thead>\n",
       "  <tbody>\n",
       "    <tr>\n",
       "      <th>0</th>\n",
       "      <td>07/12/2020</td>\n",
       "      <td>122.309998</td>\n",
       "      <td>124.570000</td>\n",
       "      <td>122.250000</td>\n",
       "      <td>123.750000</td>\n",
       "      <td>122.991783</td>\n",
       "      <td>86712000</td>\n",
       "    </tr>\n",
       "    <tr>\n",
       "      <th>1</th>\n",
       "      <td>08/12/2020</td>\n",
       "      <td>124.370003</td>\n",
       "      <td>124.980003</td>\n",
       "      <td>123.089996</td>\n",
       "      <td>124.379997</td>\n",
       "      <td>123.617920</td>\n",
       "      <td>82225500</td>\n",
       "    </tr>\n",
       "    <tr>\n",
       "      <th>2</th>\n",
       "      <td>09/12/2020</td>\n",
       "      <td>124.529999</td>\n",
       "      <td>125.949997</td>\n",
       "      <td>121.000000</td>\n",
       "      <td>121.779999</td>\n",
       "      <td>121.033844</td>\n",
       "      <td>115089200</td>\n",
       "    </tr>\n",
       "    <tr>\n",
       "      <th>3</th>\n",
       "      <td>10/12/2020</td>\n",
       "      <td>120.500000</td>\n",
       "      <td>123.870003</td>\n",
       "      <td>120.150002</td>\n",
       "      <td>123.239998</td>\n",
       "      <td>122.484901</td>\n",
       "      <td>81312200</td>\n",
       "    </tr>\n",
       "    <tr>\n",
       "      <th>4</th>\n",
       "      <td>11/12/2020</td>\n",
       "      <td>122.430000</td>\n",
       "      <td>122.760002</td>\n",
       "      <td>120.550003</td>\n",
       "      <td>122.410004</td>\n",
       "      <td>121.659996</td>\n",
       "      <td>86939800</td>\n",
       "    </tr>\n",
       "    <tr>\n",
       "      <th>...</th>\n",
       "      <td>...</td>\n",
       "      <td>...</td>\n",
       "      <td>...</td>\n",
       "      <td>...</td>\n",
       "      <td>...</td>\n",
       "      <td>...</td>\n",
       "      <td>...</td>\n",
       "    </tr>\n",
       "    <tr>\n",
       "      <th>247</th>\n",
       "      <td>30/11/2021</td>\n",
       "      <td>159.990005</td>\n",
       "      <td>165.520004</td>\n",
       "      <td>159.919998</td>\n",
       "      <td>165.300003</td>\n",
       "      <td>165.300003</td>\n",
       "      <td>174048100</td>\n",
       "    </tr>\n",
       "    <tr>\n",
       "      <th>248</th>\n",
       "      <td>01/12/2021</td>\n",
       "      <td>167.479996</td>\n",
       "      <td>170.300003</td>\n",
       "      <td>164.529999</td>\n",
       "      <td>164.770004</td>\n",
       "      <td>164.770004</td>\n",
       "      <td>152052500</td>\n",
       "    </tr>\n",
       "    <tr>\n",
       "      <th>249</th>\n",
       "      <td>02/12/2021</td>\n",
       "      <td>158.740005</td>\n",
       "      <td>164.199997</td>\n",
       "      <td>157.800003</td>\n",
       "      <td>163.759995</td>\n",
       "      <td>163.759995</td>\n",
       "      <td>136739200</td>\n",
       "    </tr>\n",
       "    <tr>\n",
       "      <th>250</th>\n",
       "      <td>03/12/2021</td>\n",
       "      <td>164.020004</td>\n",
       "      <td>164.960007</td>\n",
       "      <td>159.720001</td>\n",
       "      <td>161.839996</td>\n",
       "      <td>161.839996</td>\n",
       "      <td>117938300</td>\n",
       "    </tr>\n",
       "    <tr>\n",
       "      <th>251</th>\n",
       "      <td>06/12/2021</td>\n",
       "      <td>164.289993</td>\n",
       "      <td>167.879898</td>\n",
       "      <td>164.279999</td>\n",
       "      <td>165.794998</td>\n",
       "      <td>165.794998</td>\n",
       "      <td>56780323</td>\n",
       "    </tr>\n",
       "  </tbody>\n",
       "</table>\n",
       "<p>252 rows × 7 columns</p>\n",
       "</div>"
      ],
      "text/plain": [
       "           Date        Open        High         Low       Close   Adj Close  \\\n",
       "0    07/12/2020  122.309998  124.570000  122.250000  123.750000  122.991783   \n",
       "1    08/12/2020  124.370003  124.980003  123.089996  124.379997  123.617920   \n",
       "2    09/12/2020  124.529999  125.949997  121.000000  121.779999  121.033844   \n",
       "3    10/12/2020  120.500000  123.870003  120.150002  123.239998  122.484901   \n",
       "4    11/12/2020  122.430000  122.760002  120.550003  122.410004  121.659996   \n",
       "..          ...         ...         ...         ...         ...         ...   \n",
       "247  30/11/2021  159.990005  165.520004  159.919998  165.300003  165.300003   \n",
       "248  01/12/2021  167.479996  170.300003  164.529999  164.770004  164.770004   \n",
       "249  02/12/2021  158.740005  164.199997  157.800003  163.759995  163.759995   \n",
       "250  03/12/2021  164.020004  164.960007  159.720001  161.839996  161.839996   \n",
       "251  06/12/2021  164.289993  167.879898  164.279999  165.794998  165.794998   \n",
       "\n",
       "        Volume  \n",
       "0     86712000  \n",
       "1     82225500  \n",
       "2    115089200  \n",
       "3     81312200  \n",
       "4     86939800  \n",
       "..         ...  \n",
       "247  174048100  \n",
       "248  152052500  \n",
       "249  136739200  \n",
       "250  117938300  \n",
       "251   56780323  \n",
       "\n",
       "[252 rows x 7 columns]"
      ]
     },
     "execution_count": 58,
     "metadata": {},
     "output_type": "execute_result"
    }
   ],
   "source": [
    "df"
   ]
  },
  {
   "cell_type": "code",
   "execution_count": 59,
   "id": "southern-creature",
   "metadata": {},
   "outputs": [
    {
     "data": {
      "text/plain": [
       "Date          object\n",
       "Open         float64\n",
       "High         float64\n",
       "Low          float64\n",
       "Close        float64\n",
       "Adj Close    float64\n",
       "Volume         int64\n",
       "dtype: object"
      ]
     },
     "execution_count": 59,
     "metadata": {},
     "output_type": "execute_result"
    }
   ],
   "source": [
    "# Exploratory data analysis\n",
    "### Type of each variable\n",
    "df.dtypes\n"
   ]
  },
  {
   "cell_type": "code",
   "execution_count": 60,
   "id": "adequate-connection",
   "metadata": {},
   "outputs": [
    {
     "data": {
      "text/plain": [
       "(252, 7)"
      ]
     },
     "execution_count": 60,
     "metadata": {},
     "output_type": "execute_result"
    }
   ],
   "source": [
    "### Shape of the data\n",
    "df.shape"
   ]
  },
  {
   "cell_type": "code",
   "execution_count": 61,
   "id": "seeing-ghost",
   "metadata": {},
   "outputs": [
    {
     "data": {
      "text/plain": [
       "Date         0\n",
       "Open         0\n",
       "High         0\n",
       "Low          0\n",
       "Close        0\n",
       "Adj Close    0\n",
       "Volume       0\n",
       "dtype: int64"
      ]
     },
     "execution_count": 61,
     "metadata": {},
     "output_type": "execute_result"
    }
   ],
   "source": [
    "### NAN\n",
    "df.isna().sum() # By default it is axis = 0; it will sum by columns --> for each variable rather than each observation"
   ]
  },
  {
   "cell_type": "markdown",
   "id": "committed-pasta",
   "metadata": {},
   "source": [
    "## Create the labels column\n",
    "In order to create the labels column, we will take the variable \"Close\" (Market closing price of AAPL) and shift it 5 rows up. The result will be an array that has the last 5 rows as NAN and the rows 0 to 4 are technically the rows 5 to 9 of our data set."
   ]
  },
  {
   "cell_type": "code",
   "execution_count": 62,
   "id": "cellular-annotation",
   "metadata": {},
   "outputs": [
    {
     "data": {
      "text/plain": [
       "0      121.779999\n",
       "1      127.879997\n",
       "2      127.809998\n",
       "3      128.699997\n",
       "4      126.660004\n",
       "          ...    \n",
       "247           NaN\n",
       "248           NaN\n",
       "249           NaN\n",
       "250           NaN\n",
       "251           NaN\n",
       "Name: Close, Length: 252, dtype: float64"
      ]
     },
     "execution_count": 62,
     "metadata": {},
     "output_type": "execute_result"
    }
   ],
   "source": [
    "### Create label column\n",
    "\n",
    "## Choose the number of steps \n",
    "steps = 5 # Can be changed\n",
    "\n",
    "## Create the labels array\n",
    "labels = df['Close'].shift(-steps)\n",
    "\n",
    "\n",
    "labels"
   ]
  },
  {
   "cell_type": "markdown",
   "id": "acquired-association",
   "metadata": {},
   "source": [
    "## Create the feature array (X)\n",
    "The feature array is the same \"Close\" variable without the last 5 rows."
   ]
  },
  {
   "cell_type": "code",
   "execution_count": 63,
   "id": "relevant-potential",
   "metadata": {},
   "outputs": [],
   "source": [
    "### Create the feature array\n",
    "X = np.array(df[['Close']])"
   ]
  },
  {
   "cell_type": "code",
   "execution_count": 64,
   "id": "light-potter",
   "metadata": {},
   "outputs": [],
   "source": [
    "### Scale the X array\n",
    "from sklearn.preprocessing import scale\n",
    "X = scale(X)\n"
   ]
  },
  {
   "cell_type": "code",
   "execution_count": 65,
   "id": "intermediate-policy",
   "metadata": {},
   "outputs": [],
   "source": [
    "# Create the column that will be used in the predict method. This would be the last 5 rows that we removed from the X.\n",
    "X_lately = X[-steps:]"
   ]
  },
  {
   "cell_type": "code",
   "execution_count": 66,
   "id": "martial-scheduling",
   "metadata": {},
   "outputs": [],
   "source": [
    "# The final X\n",
    "X = X[:-steps]\n"
   ]
  },
  {
   "cell_type": "markdown",
   "id": "extensive-bradley",
   "metadata": {},
   "source": [
    "## Create the y vector from the labels vector\n",
    "It is the same vector but without the NAN."
   ]
  },
  {
   "cell_type": "code",
   "execution_count": 67,
   "id": "humanitarian-chemical",
   "metadata": {},
   "outputs": [],
   "source": [
    "# label vector\n",
    "\n",
    "labels.dropna(inplace = True)\n",
    "y = np.array(labels)\n"
   ]
  },
  {
   "cell_type": "markdown",
   "id": "protected-marker",
   "metadata": {},
   "source": [
    "## Summary \n",
    "So what we have now is:\n",
    "* A **y** vector, non-standardized that contains all the closing prices of apple except the first 5 days.\n",
    "* An **X** vector, standardized that contains all the closing price of apple except the last 5 days.\n",
    "* The **y** and the **X** vectors have the same size.\n",
    "* The idea is that the price during day n will predict the price during day n+5. (the 5th day).  \n",
    "  \n",
    "* EX: original_vector = 122;124;121;125;123;122;123;125;127.\n",
    "    * If steps = 3\n",
    "    * y = 125;123;122;123;125;127\n",
    "    * X = 122;124;121;125;123;122;\n",
    "    * Values to be predicted : last 3 : 123,125,127"
   ]
  },
  {
   "cell_type": "markdown",
   "id": "american-continuity",
   "metadata": {},
   "source": [
    "## Training and testing split"
   ]
  },
  {
   "cell_type": "code",
   "execution_count": 68,
   "id": "cutting-division",
   "metadata": {},
   "outputs": [],
   "source": [
    "from sklearn.model_selection import train_test_split\n",
    "\n",
    "X_train, X_test, y_train, y_test = train_test_split(X,y,test_size = 0.2)"
   ]
  },
  {
   "cell_type": "markdown",
   "id": "employed-disposal",
   "metadata": {},
   "source": [
    "## Training the LR model"
   ]
  },
  {
   "cell_type": "code",
   "execution_count": 69,
   "id": "answering-township",
   "metadata": {},
   "outputs": [],
   "source": [
    "from sklearn.linear_model import LinearRegression"
   ]
  },
  {
   "cell_type": "code",
   "execution_count": 70,
   "id": "swedish-creativity",
   "metadata": {},
   "outputs": [
    {
     "data": {
      "text/plain": [
       "LinearRegression()"
      ]
     },
     "execution_count": 70,
     "metadata": {},
     "output_type": "execute_result"
    }
   ],
   "source": [
    "lr = LinearRegression()\n",
    "lr.fit(X_train,y_train)"
   ]
  },
  {
   "cell_type": "markdown",
   "id": "incomplete-johnston",
   "metadata": {},
   "source": [
    "## Quality of the model"
   ]
  },
  {
   "cell_type": "code",
   "execution_count": 71,
   "id": "sacred-eagle",
   "metadata": {},
   "outputs": [],
   "source": [
    "score = lr.score(X_test,y_test)"
   ]
  },
  {
   "cell_type": "code",
   "execution_count": 72,
   "id": "individual-damages",
   "metadata": {},
   "outputs": [],
   "source": [
    "forecast = lr.predict(X_lately)"
   ]
  },
  {
   "cell_type": "code",
   "execution_count": 73,
   "id": "native-shift",
   "metadata": {},
   "outputs": [
    {
     "name": "stdout",
     "output_type": "stream",
     "text": [
      "{'test_score': 0.8575041745586153, 'forcast_set': array([164.73467862, 164.23403236, 163.2799603 , 161.46629588,\n",
      "       165.2022595 ])}\n"
     ]
    }
   ],
   "source": [
    "response = {}\n",
    "response['test_score'] = score\n",
    "response['forcast_set'] = forecast\n",
    "print(response)"
   ]
  },
  {
   "cell_type": "code",
   "execution_count": 74,
   "id": "circular-edition",
   "metadata": {},
   "outputs": [],
   "source": [
    "# https://thecleverprogrammer.com/2020/11/14/stock-price-prediction-using-machine-learning/#google_vignette"
   ]
  },
  {
   "cell_type": "code",
   "execution_count": null,
   "id": "distinguished-expansion",
   "metadata": {},
   "outputs": [],
   "source": []
  }
 ],
 "metadata": {
  "kernelspec": {
   "display_name": "Python [conda env:.conda-py38] *",
   "language": "python",
   "name": "conda-env-.conda-py38-py"
  },
  "language_info": {
   "codemirror_mode": {
    "name": "ipython",
    "version": 3
   },
   "file_extension": ".py",
   "mimetype": "text/x-python",
   "name": "python",
   "nbconvert_exporter": "python",
   "pygments_lexer": "ipython3",
   "version": "3.8.8"
  }
 },
 "nbformat": 4,
 "nbformat_minor": 5
}
